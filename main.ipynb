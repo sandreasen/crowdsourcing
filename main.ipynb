{
 "cells": [
  {
   "cell_type": "code",
   "execution_count": 21,
   "metadata": {},
   "outputs": [
    {
     "name": "stdout",
     "output_type": "stream",
     "text": [
      "Extracting MNIST_data/train-images-idx3-ubyte.gz\n",
      "Extracting MNIST_data/train-labels-idx1-ubyte.gz\n",
      "Extracting MNIST_data/t10k-images-idx3-ubyte.gz\n",
      "Extracting MNIST_data/t10k-labels-idx1-ubyte.gz\n"
     ]
    },
    {
     "data": {
      "image/png": "[encoded data removed]",
      "text/plain": [
       "<Figure size 1296x144 with 10 Axes>"
      ]
     },
     "metadata": {},
     "output_type": "display_data"
    }
   ],
   "source": [
    "# remove stochasity\n",
    "import random\n",
    "random.seed(\"000\")\n",
    "\n",
    "import numpy as np\n",
    "import matplotlib.pyplot as plt\n",
    "from math import ceil\n",
    "\n",
    "import tensorflow as tf\n",
    "from tensorflow.examples.tutorials.mnist import input_data\n",
    "mnist = input_data.read_data_sets(\"MNIST_data/\", one_hot=True)\n",
    "\n",
    "def plot_images(images, title, imgsize):\n",
    "    n = images.shape[0]\n",
    "    n_cols = 10\n",
    "    n_rows = ceil(n / n_cols)\n",
    "    plt.figure(figsize=(1.8 * n_cols, 2 * n_rows))\n",
    "    plt.suptitle(title)\n",
    "    for i in range(n):\n",
    "        ax = plt.subplot(n_rows, n_cols, i + 1)\n",
    "        plot_image(ax, images[i,:], imgsize)\n",
    "        \n",
    "def plot_image(ax, image, imgsize):\n",
    "    plt.imshow(image.reshape(imgsize), cmap='Greys_r')\n",
    "    plt.xticks(())\n",
    "    plt.yticks(())\n",
    "\n",
    "plot_images(mnist.train.images[:10,:], \"Train examples extract\", (28,28))\n",
    "plt.show()"
   ]
  },
  {
   "cell_type": "code",
   "execution_count": 20,
   "metadata": {},
   "outputs": [
    {
     "name": "stdout",
     "output_type": "stream",
     "text": [
      "size of training: (55000, 784)\n",
      "size of test: (10000, 784)\n",
      "size of validation: (5000, 784)\n"
     ]
    }
   ],
   "source": [
    "print(\"size of training: {}\".format(mnist.train.images.shape))\n",
    "print(\"size of test: {}\".format(mnist.test.images.shape))\n",
    "print(\"size of validation: {}\".format(mnist.validation.images.shape))"
   ]
  },
  {
   "cell_type": "code",
   "execution_count": 30,
   "metadata": {},
   "outputs": [
    {
     "name": "stdout",
     "output_type": "stream",
     "text": [
      "[[   0 5444]\n",
      " [   1 6179]\n",
      " [   2 5470]\n",
      " [   3 5638]\n",
      " [   4 5307]\n",
      " [   5 4987]\n",
      " [   6 5417]\n",
      " [   7 5715]\n",
      " [   8 5389]\n",
      " [   9 5454]]\n"
     ]
    }
   ],
   "source": [
    "unique_train, counts_train = np.unique(np.argmax(mnist.train.labels, axis=1),\n",
    "                                       return_counts=True)\n",
    "print(np.asarray((unique_train, counts_train)).T)"
   ]
  },
  {
   "cell_type": "code",
   "execution_count": 31,
   "metadata": {},
   "outputs": [
    {
     "name": "stdout",
     "output_type": "stream",
     "text": [
      "[[   0  980]\n",
      " [   1 1135]\n",
      " [   2 1032]\n",
      " [   3 1010]\n",
      " [   4  982]\n",
      " [   5  892]\n",
      " [   6  958]\n",
      " [   7 1028]\n",
      " [   8  974]\n",
      " [   9 1009]]\n"
     ]
    }
   ],
   "source": [
    "unique_test, counts_test = np.unique(np.argmax(mnist.test.labels, axis=1),\n",
    "                                       return_counts=True)\n",
    "print(np.asarray((unique_test, counts_test)).T)"
   ]
  },
  {
   "cell_type": "code",
   "execution_count": 32,
   "metadata": {},
   "outputs": [
    {
     "name": "stdout",
     "output_type": "stream",
     "text": [
      "[[  0 479]\n",
      " [  1 563]\n",
      " [  2 488]\n",
      " [  3 493]\n",
      " [  4 535]\n",
      " [  5 434]\n",
      " [  6 501]\n",
      " [  7 550]\n",
      " [  8 462]\n",
      " [  9 495]]\n"
     ]
    }
   ],
   "source": [
    "unique_validation, counts_validation = np.unique(np.argmax(mnist.validation.labels, axis=1),\n",
    "                                       return_counts=True)\n",
    "print(np.asarray((unique_validation, counts_validation)).T)"
   ]
  },
  {
   "cell_type": "code",
   "execution_count": 45,
   "metadata": {},
   "outputs": [
    {
     "data": {
      "text/plain": [
       "<BarContainer object of 10 artists>"
      ]
     },
     "execution_count": 45,
     "metadata": {},
     "output_type": "execute_result"
    },
    {
     "data": {
      "image/png": "[encoded data removed]",
      "text/plain": [
       "<Figure size 432x288 with 3 Axes>"
      ]
     },
     "metadata": {},
     "output_type": "display_data"
    }
   ],
   "source": [
    "plt.subplot(3, 1, 1)\n",
    "plt.bar(unique_train, counts_train/sum(counts_train))\n",
    "\n",
    "plt.subplot(3, 1, 2)\n",
    "plt.bar(unique_test, counts_test/sum(counts_test))\n",
    "\n",
    "plt.subplot(3, 1, 3)\n",
    "plt.bar(unique_validation, counts_validation/sum(counts_validation))"
   ]
  },
  {
   "cell_type": "code",
   "execution_count": null,
   "metadata": {},
   "outputs": [],
   "source": []
  }
 ],
 "metadata": {
  "kernelspec": {
   "display_name": "Python 3",
   "language": "python",
   "name": "python3"
  },
  "language_info": {
   "codemirror_mode": {
    "name": "ipython",
    "version": 3
   },
   "file_extension": ".py",
   "mimetype": "text/x-python",
   "name": "python",
   "nbconvert_exporter": "python",
   "pygments_lexer": "ipython3",
   "version": "3.6.5"
  }
 },
 "nbformat": 4,
 "nbformat_minor": 2
}
